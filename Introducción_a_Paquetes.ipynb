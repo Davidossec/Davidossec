{
  "nbformat": 4,
  "nbformat_minor": 0,
  "metadata": {
    "colab": {
      "provenance": [],
      "authorship_tag": "ABX9TyOhmzy2q7O9JoYXGXiKQSNU",
      "include_colab_link": true
    },
    "kernelspec": {
      "name": "python3",
      "display_name": "Python 3"
    },
    "language_info": {
      "name": "python"
    }
  },
  "cells": [
    {
      "cell_type": "markdown",
      "metadata": {
        "id": "view-in-github",
        "colab_type": "text"
      },
      "source": [
        "<a href=\"https://colab.research.google.com/github/Davidossec/Davidossec/blob/main/Introducci%C3%B3n_a_Paquetes.ipynb\" target=\"_parent\"><img src=\"https://colab.research.google.com/assets/colab-badge.svg\" alt=\"Open In Colab\"/></a>"
      ]
    },
    {
      "cell_type": "markdown",
      "source": [
        "#Veámos lo que prodríamos realizar con diferentes paquetes!"
      ],
      "metadata": {
        "id": "krptUYZ_F5mC"
      }
    },
    {
      "cell_type": "markdown",
      "source": [
        "Importaremos los paquetes y nos conectaremos a google Drive"
      ],
      "metadata": {
        "id": "6SLGpYOzGFA_"
      }
    },
    {
      "cell_type": "code",
      "execution_count": 1,
      "metadata": {
        "colab": {
          "base_uri": "https://localhost:8080/"
        },
        "id": "JU7_0LEgFCpq",
        "outputId": "7bd72d0b-67cf-48a5-b83c-ea500075dd7c"
      },
      "outputs": [
        {
          "output_type": "stream",
          "name": "stdout",
          "text": [
            "Mounted at /content/drive\n"
          ]
        }
      ],
      "source": [
        "from google.colab import drive\n",
        "drive.mount('/content/drive')"
      ]
    },
    {
      "cell_type": "code",
      "source": [
        "import pandas as pd\n",
        "import missingno as msno\n",
        "import matplotlib.pyplot as plt\n",
        "import plotly.express as px\n",
        "import seaborn as sns\n",
        "import numpy as np"
      ],
      "metadata": {
        "id": "rWosWmYLGURZ"
      },
      "execution_count": 2,
      "outputs": []
    },
    {
      "cell_type": "markdown",
      "source": [
        "Creamos un Dataframe con los datos"
      ],
      "metadata": {
        "id": "NvxlP722Gx2i"
      }
    },
    {
      "cell_type": "code",
      "source": [],
      "metadata": {
        "id": "yxsUoFo8Gxgv"
      },
      "execution_count": null,
      "outputs": []
    }
  ]
}